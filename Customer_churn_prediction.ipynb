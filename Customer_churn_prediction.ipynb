{
  "nbformat": 4,
  "nbformat_minor": 0,
  "metadata": {
    "colab": {
      "provenance": [],
      "mount_file_id": "1NUB50sjkEToH-IVkl46uAKaW2TT66f90",
      "authorship_tag": "ABX9TyNcmbJVUj4HcPyeU57gH++T",
      "include_colab_link": true
    },
    "kernelspec": {
      "name": "python3",
      "display_name": "Python 3"
    },
    "language_info": {
      "name": "python"
    }
  },
  "cells": [
    {
      "cell_type": "markdown",
      "metadata": {
        "id": "view-in-github",
        "colab_type": "text"
      },
      "source": [
        "<a href=\"https://colab.research.google.com/github/Abhimanyu004/ANN_Projects/blob/main/Customer_churn_prediction.ipynb\" target=\"_parent\"><img src=\"https://colab.research.google.com/assets/colab-badge.svg\" alt=\"Open In Colab\"/></a>"
      ]
    },
    {
      "cell_type": "code",
      "execution_count": 42,
      "metadata": {
        "id": "ilAXJx8k7KoP"
      },
      "outputs": [],
      "source": [
        "import pandas as pd\n",
        "import numpy as np"
      ]
    },
    {
      "cell_type": "code",
      "source": [
        "data = pd.read_csv(\"/content/drive/MyDrive/deep learning data/Churn_Modelling.csv\")"
      ],
      "metadata": {
        "id": "5-QIlYBg-mvT"
      },
      "execution_count": 43,
      "outputs": []
    },
    {
      "cell_type": "code",
      "source": [
        "data.head()"
      ],
      "metadata": {
        "colab": {
          "base_uri": "https://localhost:8080/",
          "height": 226
        },
        "id": "Ko1AHmul_EXP",
        "outputId": "51c6a9e2-6b84-49ee-9949-c428a65af6ba"
      },
      "execution_count": 44,
      "outputs": [
        {
          "output_type": "execute_result",
          "data": {
            "text/plain": [
              "   RowNumber  CustomerId   Surname  CreditScore Geography  Gender  Age  \\\n",
              "0          1    15634602  Hargrave          619    France  Female   42   \n",
              "1          2    15647311      Hill          608     Spain  Female   41   \n",
              "2          3    15619304      Onio          502    France  Female   42   \n",
              "3          4    15701354      Boni          699    France  Female   39   \n",
              "4          5    15737888  Mitchell          850     Spain  Female   43   \n",
              "\n",
              "   Tenure    Balance  NumOfProducts  HasCrCard  IsActiveMember  \\\n",
              "0       2       0.00              1          1               1   \n",
              "1       1   83807.86              1          0               1   \n",
              "2       8  159660.80              3          1               0   \n",
              "3       1       0.00              2          0               0   \n",
              "4       2  125510.82              1          1               1   \n",
              "\n",
              "   EstimatedSalary  Exited  \n",
              "0        101348.88       1  \n",
              "1        112542.58       0  \n",
              "2        113931.57       1  \n",
              "3         93826.63       0  \n",
              "4         79084.10       0  "
            ],
            "text/html": [
              "\n",
              "  <div id=\"df-8860811e-36a0-4f5a-a366-a748dcdb8d7b\" class=\"colab-df-container\">\n",
              "    <div>\n",
              "<style scoped>\n",
              "    .dataframe tbody tr th:only-of-type {\n",
              "        vertical-align: middle;\n",
              "    }\n",
              "\n",
              "    .dataframe tbody tr th {\n",
              "        vertical-align: top;\n",
              "    }\n",
              "\n",
              "    .dataframe thead th {\n",
              "        text-align: right;\n",
              "    }\n",
              "</style>\n",
              "<table border=\"1\" class=\"dataframe\">\n",
              "  <thead>\n",
              "    <tr style=\"text-align: right;\">\n",
              "      <th></th>\n",
              "      <th>RowNumber</th>\n",
              "      <th>CustomerId</th>\n",
              "      <th>Surname</th>\n",
              "      <th>CreditScore</th>\n",
              "      <th>Geography</th>\n",
              "      <th>Gender</th>\n",
              "      <th>Age</th>\n",
              "      <th>Tenure</th>\n",
              "      <th>Balance</th>\n",
              "      <th>NumOfProducts</th>\n",
              "      <th>HasCrCard</th>\n",
              "      <th>IsActiveMember</th>\n",
              "      <th>EstimatedSalary</th>\n",
              "      <th>Exited</th>\n",
              "    </tr>\n",
              "  </thead>\n",
              "  <tbody>\n",
              "    <tr>\n",
              "      <th>0</th>\n",
              "      <td>1</td>\n",
              "      <td>15634602</td>\n",
              "      <td>Hargrave</td>\n",
              "      <td>619</td>\n",
              "      <td>France</td>\n",
              "      <td>Female</td>\n",
              "      <td>42</td>\n",
              "      <td>2</td>\n",
              "      <td>0.00</td>\n",
              "      <td>1</td>\n",
              "      <td>1</td>\n",
              "      <td>1</td>\n",
              "      <td>101348.88</td>\n",
              "      <td>1</td>\n",
              "    </tr>\n",
              "    <tr>\n",
              "      <th>1</th>\n",
              "      <td>2</td>\n",
              "      <td>15647311</td>\n",
              "      <td>Hill</td>\n",
              "      <td>608</td>\n",
              "      <td>Spain</td>\n",
              "      <td>Female</td>\n",
              "      <td>41</td>\n",
              "      <td>1</td>\n",
              "      <td>83807.86</td>\n",
              "      <td>1</td>\n",
              "      <td>0</td>\n",
              "      <td>1</td>\n",
              "      <td>112542.58</td>\n",
              "      <td>0</td>\n",
              "    </tr>\n",
              "    <tr>\n",
              "      <th>2</th>\n",
              "      <td>3</td>\n",
              "      <td>15619304</td>\n",
              "      <td>Onio</td>\n",
              "      <td>502</td>\n",
              "      <td>France</td>\n",
              "      <td>Female</td>\n",
              "      <td>42</td>\n",
              "      <td>8</td>\n",
              "      <td>159660.80</td>\n",
              "      <td>3</td>\n",
              "      <td>1</td>\n",
              "      <td>0</td>\n",
              "      <td>113931.57</td>\n",
              "      <td>1</td>\n",
              "    </tr>\n",
              "    <tr>\n",
              "      <th>3</th>\n",
              "      <td>4</td>\n",
              "      <td>15701354</td>\n",
              "      <td>Boni</td>\n",
              "      <td>699</td>\n",
              "      <td>France</td>\n",
              "      <td>Female</td>\n",
              "      <td>39</td>\n",
              "      <td>1</td>\n",
              "      <td>0.00</td>\n",
              "      <td>2</td>\n",
              "      <td>0</td>\n",
              "      <td>0</td>\n",
              "      <td>93826.63</td>\n",
              "      <td>0</td>\n",
              "    </tr>\n",
              "    <tr>\n",
              "      <th>4</th>\n",
              "      <td>5</td>\n",
              "      <td>15737888</td>\n",
              "      <td>Mitchell</td>\n",
              "      <td>850</td>\n",
              "      <td>Spain</td>\n",
              "      <td>Female</td>\n",
              "      <td>43</td>\n",
              "      <td>2</td>\n",
              "      <td>125510.82</td>\n",
              "      <td>1</td>\n",
              "      <td>1</td>\n",
              "      <td>1</td>\n",
              "      <td>79084.10</td>\n",
              "      <td>0</td>\n",
              "    </tr>\n",
              "  </tbody>\n",
              "</table>\n",
              "</div>\n",
              "    <div class=\"colab-df-buttons\">\n",
              "\n",
              "  <div class=\"colab-df-container\">\n",
              "    <button class=\"colab-df-convert\" onclick=\"convertToInteractive('df-8860811e-36a0-4f5a-a366-a748dcdb8d7b')\"\n",
              "            title=\"Convert this dataframe to an interactive table.\"\n",
              "            style=\"display:none;\">\n",
              "\n",
              "  <svg xmlns=\"http://www.w3.org/2000/svg\" height=\"24px\" viewBox=\"0 -960 960 960\">\n",
              "    <path d=\"M120-120v-720h720v720H120Zm60-500h600v-160H180v160Zm220 220h160v-160H400v160Zm0 220h160v-160H400v160ZM180-400h160v-160H180v160Zm440 0h160v-160H620v160ZM180-180h160v-160H180v160Zm440 0h160v-160H620v160Z\"/>\n",
              "  </svg>\n",
              "    </button>\n",
              "\n",
              "  <style>\n",
              "    .colab-df-container {\n",
              "      display:flex;\n",
              "      gap: 12px;\n",
              "    }\n",
              "\n",
              "    .colab-df-convert {\n",
              "      background-color: #E8F0FE;\n",
              "      border: none;\n",
              "      border-radius: 50%;\n",
              "      cursor: pointer;\n",
              "      display: none;\n",
              "      fill: #1967D2;\n",
              "      height: 32px;\n",
              "      padding: 0 0 0 0;\n",
              "      width: 32px;\n",
              "    }\n",
              "\n",
              "    .colab-df-convert:hover {\n",
              "      background-color: #E2EBFA;\n",
              "      box-shadow: 0px 1px 2px rgba(60, 64, 67, 0.3), 0px 1px 3px 1px rgba(60, 64, 67, 0.15);\n",
              "      fill: #174EA6;\n",
              "    }\n",
              "\n",
              "    .colab-df-buttons div {\n",
              "      margin-bottom: 4px;\n",
              "    }\n",
              "\n",
              "    [theme=dark] .colab-df-convert {\n",
              "      background-color: #3B4455;\n",
              "      fill: #D2E3FC;\n",
              "    }\n",
              "\n",
              "    [theme=dark] .colab-df-convert:hover {\n",
              "      background-color: #434B5C;\n",
              "      box-shadow: 0px 1px 3px 1px rgba(0, 0, 0, 0.15);\n",
              "      filter: drop-shadow(0px 1px 2px rgba(0, 0, 0, 0.3));\n",
              "      fill: #FFFFFF;\n",
              "    }\n",
              "  </style>\n",
              "\n",
              "    <script>\n",
              "      const buttonEl =\n",
              "        document.querySelector('#df-8860811e-36a0-4f5a-a366-a748dcdb8d7b button.colab-df-convert');\n",
              "      buttonEl.style.display =\n",
              "        google.colab.kernel.accessAllowed ? 'block' : 'none';\n",
              "\n",
              "      async function convertToInteractive(key) {\n",
              "        const element = document.querySelector('#df-8860811e-36a0-4f5a-a366-a748dcdb8d7b');\n",
              "        const dataTable =\n",
              "          await google.colab.kernel.invokeFunction('convertToInteractive',\n",
              "                                                    [key], {});\n",
              "        if (!dataTable) return;\n",
              "\n",
              "        const docLinkHtml = 'Like what you see? Visit the ' +\n",
              "          '<a target=\"_blank\" href=https://colab.research.google.com/notebooks/data_table.ipynb>data table notebook</a>'\n",
              "          + ' to learn more about interactive tables.';\n",
              "        element.innerHTML = '';\n",
              "        dataTable['output_type'] = 'display_data';\n",
              "        await google.colab.output.renderOutput(dataTable, element);\n",
              "        const docLink = document.createElement('div');\n",
              "        docLink.innerHTML = docLinkHtml;\n",
              "        element.appendChild(docLink);\n",
              "      }\n",
              "    </script>\n",
              "  </div>\n",
              "\n",
              "\n",
              "<div id=\"df-0f0ce0dd-fa8e-4884-9170-7c7b69a9c386\">\n",
              "  <button class=\"colab-df-quickchart\" onclick=\"quickchart('df-0f0ce0dd-fa8e-4884-9170-7c7b69a9c386')\"\n",
              "            title=\"Suggest charts\"\n",
              "            style=\"display:none;\">\n",
              "\n",
              "<svg xmlns=\"http://www.w3.org/2000/svg\" height=\"24px\"viewBox=\"0 0 24 24\"\n",
              "     width=\"24px\">\n",
              "    <g>\n",
              "        <path d=\"M19 3H5c-1.1 0-2 .9-2 2v14c0 1.1.9 2 2 2h14c1.1 0 2-.9 2-2V5c0-1.1-.9-2-2-2zM9 17H7v-7h2v7zm4 0h-2V7h2v10zm4 0h-2v-4h2v4z\"/>\n",
              "    </g>\n",
              "</svg>\n",
              "  </button>\n",
              "\n",
              "<style>\n",
              "  .colab-df-quickchart {\n",
              "      --bg-color: #E8F0FE;\n",
              "      --fill-color: #1967D2;\n",
              "      --hover-bg-color: #E2EBFA;\n",
              "      --hover-fill-color: #174EA6;\n",
              "      --disabled-fill-color: #AAA;\n",
              "      --disabled-bg-color: #DDD;\n",
              "  }\n",
              "\n",
              "  [theme=dark] .colab-df-quickchart {\n",
              "      --bg-color: #3B4455;\n",
              "      --fill-color: #D2E3FC;\n",
              "      --hover-bg-color: #434B5C;\n",
              "      --hover-fill-color: #FFFFFF;\n",
              "      --disabled-bg-color: #3B4455;\n",
              "      --disabled-fill-color: #666;\n",
              "  }\n",
              "\n",
              "  .colab-df-quickchart {\n",
              "    background-color: var(--bg-color);\n",
              "    border: none;\n",
              "    border-radius: 50%;\n",
              "    cursor: pointer;\n",
              "    display: none;\n",
              "    fill: var(--fill-color);\n",
              "    height: 32px;\n",
              "    padding: 0;\n",
              "    width: 32px;\n",
              "  }\n",
              "\n",
              "  .colab-df-quickchart:hover {\n",
              "    background-color: var(--hover-bg-color);\n",
              "    box-shadow: 0 1px 2px rgba(60, 64, 67, 0.3), 0 1px 3px 1px rgba(60, 64, 67, 0.15);\n",
              "    fill: var(--button-hover-fill-color);\n",
              "  }\n",
              "\n",
              "  .colab-df-quickchart-complete:disabled,\n",
              "  .colab-df-quickchart-complete:disabled:hover {\n",
              "    background-color: var(--disabled-bg-color);\n",
              "    fill: var(--disabled-fill-color);\n",
              "    box-shadow: none;\n",
              "  }\n",
              "\n",
              "  .colab-df-spinner {\n",
              "    border: 2px solid var(--fill-color);\n",
              "    border-color: transparent;\n",
              "    border-bottom-color: var(--fill-color);\n",
              "    animation:\n",
              "      spin 1s steps(1) infinite;\n",
              "  }\n",
              "\n",
              "  @keyframes spin {\n",
              "    0% {\n",
              "      border-color: transparent;\n",
              "      border-bottom-color: var(--fill-color);\n",
              "      border-left-color: var(--fill-color);\n",
              "    }\n",
              "    20% {\n",
              "      border-color: transparent;\n",
              "      border-left-color: var(--fill-color);\n",
              "      border-top-color: var(--fill-color);\n",
              "    }\n",
              "    30% {\n",
              "      border-color: transparent;\n",
              "      border-left-color: var(--fill-color);\n",
              "      border-top-color: var(--fill-color);\n",
              "      border-right-color: var(--fill-color);\n",
              "    }\n",
              "    40% {\n",
              "      border-color: transparent;\n",
              "      border-right-color: var(--fill-color);\n",
              "      border-top-color: var(--fill-color);\n",
              "    }\n",
              "    60% {\n",
              "      border-color: transparent;\n",
              "      border-right-color: var(--fill-color);\n",
              "    }\n",
              "    80% {\n",
              "      border-color: transparent;\n",
              "      border-right-color: var(--fill-color);\n",
              "      border-bottom-color: var(--fill-color);\n",
              "    }\n",
              "    90% {\n",
              "      border-color: transparent;\n",
              "      border-bottom-color: var(--fill-color);\n",
              "    }\n",
              "  }\n",
              "</style>\n",
              "\n",
              "  <script>\n",
              "    async function quickchart(key) {\n",
              "      const quickchartButtonEl =\n",
              "        document.querySelector('#' + key + ' button');\n",
              "      quickchartButtonEl.disabled = true;  // To prevent multiple clicks.\n",
              "      quickchartButtonEl.classList.add('colab-df-spinner');\n",
              "      try {\n",
              "        const charts = await google.colab.kernel.invokeFunction(\n",
              "            'suggestCharts', [key], {});\n",
              "      } catch (error) {\n",
              "        console.error('Error during call to suggestCharts:', error);\n",
              "      }\n",
              "      quickchartButtonEl.classList.remove('colab-df-spinner');\n",
              "      quickchartButtonEl.classList.add('colab-df-quickchart-complete');\n",
              "    }\n",
              "    (() => {\n",
              "      let quickchartButtonEl =\n",
              "        document.querySelector('#df-0f0ce0dd-fa8e-4884-9170-7c7b69a9c386 button');\n",
              "      quickchartButtonEl.style.display =\n",
              "        google.colab.kernel.accessAllowed ? 'block' : 'none';\n",
              "    })();\n",
              "  </script>\n",
              "</div>\n",
              "\n",
              "    </div>\n",
              "  </div>\n"
            ],
            "application/vnd.google.colaboratory.intrinsic+json": {
              "type": "dataframe",
              "variable_name": "data",
              "summary": "{\n  \"name\": \"data\",\n  \"rows\": 10000,\n  \"fields\": [\n    {\n      \"column\": \"RowNumber\",\n      \"properties\": {\n        \"dtype\": \"number\",\n        \"std\": 2886,\n        \"min\": 1,\n        \"max\": 10000,\n        \"num_unique_values\": 10000,\n        \"samples\": [\n          6253,\n          4685,\n          1732\n        ],\n        \"semantic_type\": \"\",\n        \"description\": \"\"\n      }\n    },\n    {\n      \"column\": \"CustomerId\",\n      \"properties\": {\n        \"dtype\": \"number\",\n        \"std\": 71936,\n        \"min\": 15565701,\n        \"max\": 15815690,\n        \"num_unique_values\": 10000,\n        \"samples\": [\n          15687492,\n          15736963,\n          15721730\n        ],\n        \"semantic_type\": \"\",\n        \"description\": \"\"\n      }\n    },\n    {\n      \"column\": \"Surname\",\n      \"properties\": {\n        \"dtype\": \"category\",\n        \"num_unique_values\": 2932,\n        \"samples\": [\n          \"McGuirk\",\n          \"Torkelson\",\n          \"Rapuluchukwu\"\n        ],\n        \"semantic_type\": \"\",\n        \"description\": \"\"\n      }\n    },\n    {\n      \"column\": \"CreditScore\",\n      \"properties\": {\n        \"dtype\": \"number\",\n        \"std\": 96,\n        \"min\": 350,\n        \"max\": 850,\n        \"num_unique_values\": 460,\n        \"samples\": [\n          754,\n          533,\n          744\n        ],\n        \"semantic_type\": \"\",\n        \"description\": \"\"\n      }\n    },\n    {\n      \"column\": \"Geography\",\n      \"properties\": {\n        \"dtype\": \"category\",\n        \"num_unique_values\": 3,\n        \"samples\": [\n          \"France\",\n          \"Spain\",\n          \"Germany\"\n        ],\n        \"semantic_type\": \"\",\n        \"description\": \"\"\n      }\n    },\n    {\n      \"column\": \"Gender\",\n      \"properties\": {\n        \"dtype\": \"category\",\n        \"num_unique_values\": 2,\n        \"samples\": [\n          \"Male\",\n          \"Female\"\n        ],\n        \"semantic_type\": \"\",\n        \"description\": \"\"\n      }\n    },\n    {\n      \"column\": \"Age\",\n      \"properties\": {\n        \"dtype\": \"number\",\n        \"std\": 10,\n        \"min\": 18,\n        \"max\": 92,\n        \"num_unique_values\": 70,\n        \"samples\": [\n          61,\n          42\n        ],\n        \"semantic_type\": \"\",\n        \"description\": \"\"\n      }\n    },\n    {\n      \"column\": \"Tenure\",\n      \"properties\": {\n        \"dtype\": \"number\",\n        \"std\": 2,\n        \"min\": 0,\n        \"max\": 10,\n        \"num_unique_values\": 11,\n        \"samples\": [\n          6,\n          2\n        ],\n        \"semantic_type\": \"\",\n        \"description\": \"\"\n      }\n    },\n    {\n      \"column\": \"Balance\",\n      \"properties\": {\n        \"dtype\": \"number\",\n        \"std\": 62397.405202385955,\n        \"min\": 0.0,\n        \"max\": 250898.09,\n        \"num_unique_values\": 6382,\n        \"samples\": [\n          117707.18,\n          133050.97\n        ],\n        \"semantic_type\": \"\",\n        \"description\": \"\"\n      }\n    },\n    {\n      \"column\": \"NumOfProducts\",\n      \"properties\": {\n        \"dtype\": \"number\",\n        \"std\": 0,\n        \"min\": 1,\n        \"max\": 4,\n        \"num_unique_values\": 4,\n        \"samples\": [\n          3,\n          4\n        ],\n        \"semantic_type\": \"\",\n        \"description\": \"\"\n      }\n    },\n    {\n      \"column\": \"HasCrCard\",\n      \"properties\": {\n        \"dtype\": \"number\",\n        \"std\": 0,\n        \"min\": 0,\n        \"max\": 1,\n        \"num_unique_values\": 2,\n        \"samples\": [\n          0,\n          1\n        ],\n        \"semantic_type\": \"\",\n        \"description\": \"\"\n      }\n    },\n    {\n      \"column\": \"IsActiveMember\",\n      \"properties\": {\n        \"dtype\": \"number\",\n        \"std\": 0,\n        \"min\": 0,\n        \"max\": 1,\n        \"num_unique_values\": 2,\n        \"samples\": [\n          0,\n          1\n        ],\n        \"semantic_type\": \"\",\n        \"description\": \"\"\n      }\n    },\n    {\n      \"column\": \"EstimatedSalary\",\n      \"properties\": {\n        \"dtype\": \"number\",\n        \"std\": 57510.49281769816,\n        \"min\": 11.58,\n        \"max\": 199992.48,\n        \"num_unique_values\": 9999,\n        \"samples\": [\n          100809.99,\n          95273.73\n        ],\n        \"semantic_type\": \"\",\n        \"description\": \"\"\n      }\n    },\n    {\n      \"column\": \"Exited\",\n      \"properties\": {\n        \"dtype\": \"number\",\n        \"std\": 0,\n        \"min\": 0,\n        \"max\": 1,\n        \"num_unique_values\": 2,\n        \"samples\": [\n          0,\n          1\n        ],\n        \"semantic_type\": \"\",\n        \"description\": \"\"\n      }\n    }\n  ]\n}"
            }
          },
          "metadata": {},
          "execution_count": 44
        }
      ]
    },
    {
      "cell_type": "code",
      "source": [
        "X = data.iloc[:, 3:13]\n",
        "y = data.iloc[:, 13]"
      ],
      "metadata": {
        "id": "_w2Ha8Ui_x0i"
      },
      "execution_count": 45,
      "outputs": []
    },
    {
      "cell_type": "code",
      "source": [
        "geo = pd.get_dummies(X['Geography'], drop_first=True)\n",
        "gen = pd.get_dummies(X[\"Gender\"], drop_first=True)"
      ],
      "metadata": {
        "id": "b_IpT_PRATEn"
      },
      "execution_count": 46,
      "outputs": []
    },
    {
      "cell_type": "code",
      "source": [
        "X = pd.concat([X, geo, gen], axis=1)"
      ],
      "metadata": {
        "id": "pCjEfm_KKulU"
      },
      "execution_count": 47,
      "outputs": []
    },
    {
      "cell_type": "code",
      "source": [
        "X = X.drop([\"Geography\", \"Gender\"], axis=1)"
      ],
      "metadata": {
        "id": "lTS7-ppwDgXC"
      },
      "execution_count": 48,
      "outputs": []
    },
    {
      "cell_type": "code",
      "source": [
        "from sklearn.model_selection import train_test_split\n",
        "X_train, X_test, y_train, y_test = train_test_split(X, y, test_size =0.2, random_state=42)"
      ],
      "metadata": {
        "id": "BWpZ6gYmDw8A"
      },
      "execution_count": 49,
      "outputs": []
    },
    {
      "cell_type": "code",
      "source": [
        "from sklearn.preprocessing import StandardScaler\n",
        "sc = StandardScaler()\n",
        "X_train = sc.fit_transform(X_train)\n",
        "X_test = sc.transform(X_test)"
      ],
      "metadata": {
        "id": "pvCrXL59ESep"
      },
      "execution_count": 50,
      "outputs": []
    },
    {
      "cell_type": "code",
      "source": [
        "import keras\n",
        "from keras import layers"
      ],
      "metadata": {
        "id": "GwmNgotuFEXe"
      },
      "execution_count": 51,
      "outputs": []
    },
    {
      "cell_type": "code",
      "source": [],
      "metadata": {
        "id": "dbjoijzF9VL9"
      },
      "execution_count": 51,
      "outputs": []
    },
    {
      "cell_type": "code",
      "source": [
        "classifier = keras.Sequential(\n",
        "    [\n",
        "        layers.Dense(6, kernel_initializer=\"he_uniform\", activation = \"relu\", name = \"layer1\", input_shape=(11,)),\n",
        "        layers.Dense(6, kernel_initializer=\"he_uniform\", activation = \"relu\", name=\"layer2\"),\n",
        "        layers.Dense(1, kernel_initializer=\"glorot_uniform\", activation = \"sigmoid\", name = \"outputlayer\")\n",
        "    ]\n",
        ")"
      ],
      "metadata": {
        "id": "agwKq_AxGBr1"
      },
      "execution_count": 52,
      "outputs": []
    },
    {
      "cell_type": "code",
      "source": [
        "classifier.compile(optimizer = 'Adamax', loss = 'binary_crossentropy', metrics = ['accuracy'])"
      ],
      "metadata": {
        "id": "ZGKI-JGEGOJF"
      },
      "execution_count": 53,
      "outputs": []
    },
    {
      "cell_type": "code",
      "source": [
        "model_history = classifier.fit(X_train, y_train, validation_split=0.33, batch_size=10, epochs=100)"
      ],
      "metadata": {
        "colab": {
          "base_uri": "https://localhost:8080/"
        },
        "id": "ekkJcxcDJ7sa",
        "outputId": "960a4ceb-fcdf-418b-9e35-8438753c2c63"
      },
      "execution_count": 54,
      "outputs": [
        {
          "output_type": "stream",
          "name": "stdout",
          "text": [
            "Epoch 1/100\n",
            "536/536 [==============================] - 3s 3ms/step - loss: 0.5960 - accuracy: 0.7384 - val_loss: 0.5331 - val_accuracy: 0.7785\n",
            "Epoch 2/100\n",
            "536/536 [==============================] - 1s 3ms/step - loss: 0.5137 - accuracy: 0.7919 - val_loss: 0.5001 - val_accuracy: 0.7906\n",
            "Epoch 3/100\n",
            "536/536 [==============================] - 1s 3ms/step - loss: 0.4909 - accuracy: 0.7964 - val_loss: 0.4862 - val_accuracy: 0.7917\n",
            "Epoch 4/100\n",
            "536/536 [==============================] - 2s 3ms/step - loss: 0.4780 - accuracy: 0.7970 - val_loss: 0.4763 - val_accuracy: 0.7914\n",
            "Epoch 5/100\n",
            "536/536 [==============================] - 2s 3ms/step - loss: 0.4688 - accuracy: 0.7974 - val_loss: 0.4691 - val_accuracy: 0.7917\n",
            "Epoch 6/100\n",
            "536/536 [==============================] - 2s 4ms/step - loss: 0.4618 - accuracy: 0.7977 - val_loss: 0.4634 - val_accuracy: 0.7921\n",
            "Epoch 7/100\n",
            "536/536 [==============================] - 2s 4ms/step - loss: 0.4562 - accuracy: 0.7979 - val_loss: 0.4589 - val_accuracy: 0.7914\n",
            "Epoch 8/100\n",
            "536/536 [==============================] - 1s 3ms/step - loss: 0.4517 - accuracy: 0.7979 - val_loss: 0.4551 - val_accuracy: 0.7917\n",
            "Epoch 9/100\n",
            "536/536 [==============================] - 1s 3ms/step - loss: 0.4477 - accuracy: 0.7990 - val_loss: 0.4520 - val_accuracy: 0.7921\n",
            "Epoch 10/100\n",
            "536/536 [==============================] - 1s 2ms/step - loss: 0.4443 - accuracy: 0.7987 - val_loss: 0.4496 - val_accuracy: 0.7925\n",
            "Epoch 11/100\n",
            "536/536 [==============================] - 1s 2ms/step - loss: 0.4413 - accuracy: 0.7998 - val_loss: 0.4471 - val_accuracy: 0.7921\n",
            "Epoch 12/100\n",
            "536/536 [==============================] - 1s 3ms/step - loss: 0.4383 - accuracy: 0.8001 - val_loss: 0.4446 - val_accuracy: 0.7933\n",
            "Epoch 13/100\n",
            "536/536 [==============================] - 1s 2ms/step - loss: 0.4354 - accuracy: 0.8003 - val_loss: 0.4425 - val_accuracy: 0.7940\n",
            "Epoch 14/100\n",
            "536/536 [==============================] - 2s 3ms/step - loss: 0.4327 - accuracy: 0.8005 - val_loss: 0.4407 - val_accuracy: 0.7948\n",
            "Epoch 15/100\n",
            "536/536 [==============================] - 2s 4ms/step - loss: 0.4299 - accuracy: 0.8009 - val_loss: 0.4386 - val_accuracy: 0.7959\n",
            "Epoch 16/100\n",
            "536/536 [==============================] - 1s 3ms/step - loss: 0.4270 - accuracy: 0.8031 - val_loss: 0.4367 - val_accuracy: 0.7978\n",
            "Epoch 17/100\n",
            "536/536 [==============================] - 2s 3ms/step - loss: 0.4243 - accuracy: 0.8037 - val_loss: 0.4347 - val_accuracy: 0.7978\n",
            "Epoch 18/100\n",
            "536/536 [==============================] - 1s 2ms/step - loss: 0.4216 - accuracy: 0.8061 - val_loss: 0.4328 - val_accuracy: 0.7993\n",
            "Epoch 19/100\n",
            "536/536 [==============================] - 1s 2ms/step - loss: 0.4187 - accuracy: 0.8080 - val_loss: 0.4309 - val_accuracy: 0.7993\n",
            "Epoch 20/100\n",
            "536/536 [==============================] - 2s 3ms/step - loss: 0.4159 - accuracy: 0.8099 - val_loss: 0.4287 - val_accuracy: 0.8016\n",
            "Epoch 21/100\n",
            "536/536 [==============================] - 1s 3ms/step - loss: 0.4131 - accuracy: 0.8110 - val_loss: 0.4265 - val_accuracy: 0.8012\n",
            "Epoch 22/100\n",
            "536/536 [==============================] - 2s 3ms/step - loss: 0.4101 - accuracy: 0.8134 - val_loss: 0.4242 - val_accuracy: 0.8042\n",
            "Epoch 23/100\n",
            "536/536 [==============================] - 2s 4ms/step - loss: 0.4068 - accuracy: 0.8173 - val_loss: 0.4215 - val_accuracy: 0.8076\n",
            "Epoch 24/100\n",
            "536/536 [==============================] - 2s 3ms/step - loss: 0.4032 - accuracy: 0.8218 - val_loss: 0.4186 - val_accuracy: 0.8058\n",
            "Epoch 25/100\n",
            "536/536 [==============================] - 2s 3ms/step - loss: 0.3993 - accuracy: 0.8240 - val_loss: 0.4154 - val_accuracy: 0.8076\n",
            "Epoch 26/100\n",
            "536/536 [==============================] - 1s 3ms/step - loss: 0.3954 - accuracy: 0.8268 - val_loss: 0.4125 - val_accuracy: 0.8088\n",
            "Epoch 27/100\n",
            "536/536 [==============================] - 1s 2ms/step - loss: 0.3916 - accuracy: 0.8294 - val_loss: 0.4094 - val_accuracy: 0.8133\n",
            "Epoch 28/100\n",
            "536/536 [==============================] - 2s 3ms/step - loss: 0.3879 - accuracy: 0.8317 - val_loss: 0.4063 - val_accuracy: 0.8156\n",
            "Epoch 29/100\n",
            "536/536 [==============================] - 2s 3ms/step - loss: 0.3840 - accuracy: 0.8356 - val_loss: 0.4033 - val_accuracy: 0.8179\n",
            "Epoch 30/100\n",
            "536/536 [==============================] - 2s 3ms/step - loss: 0.3801 - accuracy: 0.8386 - val_loss: 0.3995 - val_accuracy: 0.8251\n",
            "Epoch 31/100\n",
            "536/536 [==============================] - 2s 4ms/step - loss: 0.3763 - accuracy: 0.8412 - val_loss: 0.3960 - val_accuracy: 0.8289\n",
            "Epoch 32/100\n",
            "536/536 [==============================] - 2s 4ms/step - loss: 0.3724 - accuracy: 0.8421 - val_loss: 0.3926 - val_accuracy: 0.8342\n",
            "Epoch 33/100\n",
            "536/536 [==============================] - 2s 3ms/step - loss: 0.3686 - accuracy: 0.8477 - val_loss: 0.3891 - val_accuracy: 0.8387\n",
            "Epoch 34/100\n",
            "536/536 [==============================] - 2s 3ms/step - loss: 0.3648 - accuracy: 0.8490 - val_loss: 0.3858 - val_accuracy: 0.8421\n",
            "Epoch 35/100\n",
            "536/536 [==============================] - 2s 3ms/step - loss: 0.3615 - accuracy: 0.8520 - val_loss: 0.3828 - val_accuracy: 0.8444\n",
            "Epoch 36/100\n",
            "536/536 [==============================] - 2s 3ms/step - loss: 0.3585 - accuracy: 0.8528 - val_loss: 0.3801 - val_accuracy: 0.8429\n",
            "Epoch 37/100\n",
            "536/536 [==============================] - 1s 3ms/step - loss: 0.3556 - accuracy: 0.8546 - val_loss: 0.3777 - val_accuracy: 0.8470\n",
            "Epoch 38/100\n",
            "536/536 [==============================] - 2s 3ms/step - loss: 0.3530 - accuracy: 0.8539 - val_loss: 0.3757 - val_accuracy: 0.8470\n",
            "Epoch 39/100\n",
            "536/536 [==============================] - 2s 4ms/step - loss: 0.3507 - accuracy: 0.8567 - val_loss: 0.3736 - val_accuracy: 0.8474\n",
            "Epoch 40/100\n",
            "536/536 [==============================] - 2s 3ms/step - loss: 0.3486 - accuracy: 0.8586 - val_loss: 0.3718 - val_accuracy: 0.8466\n",
            "Epoch 41/100\n",
            "536/536 [==============================] - 1s 3ms/step - loss: 0.3465 - accuracy: 0.8595 - val_loss: 0.3700 - val_accuracy: 0.8451\n",
            "Epoch 42/100\n",
            "536/536 [==============================] - 2s 3ms/step - loss: 0.3449 - accuracy: 0.8578 - val_loss: 0.3688 - val_accuracy: 0.8478\n",
            "Epoch 43/100\n",
            "536/536 [==============================] - 2s 3ms/step - loss: 0.3432 - accuracy: 0.8586 - val_loss: 0.3674 - val_accuracy: 0.8485\n",
            "Epoch 44/100\n",
            "536/536 [==============================] - 2s 3ms/step - loss: 0.3418 - accuracy: 0.8591 - val_loss: 0.3663 - val_accuracy: 0.8493\n",
            "Epoch 45/100\n",
            "536/536 [==============================] - 1s 2ms/step - loss: 0.3406 - accuracy: 0.8589 - val_loss: 0.3653 - val_accuracy: 0.8504\n",
            "Epoch 46/100\n",
            "536/536 [==============================] - 2s 3ms/step - loss: 0.3393 - accuracy: 0.8599 - val_loss: 0.3647 - val_accuracy: 0.8493\n",
            "Epoch 47/100\n",
            "536/536 [==============================] - 2s 4ms/step - loss: 0.3384 - accuracy: 0.8604 - val_loss: 0.3639 - val_accuracy: 0.8501\n",
            "Epoch 48/100\n",
            "536/536 [==============================] - 1s 3ms/step - loss: 0.3375 - accuracy: 0.8597 - val_loss: 0.3633 - val_accuracy: 0.8485\n",
            "Epoch 49/100\n",
            "536/536 [==============================] - 2s 3ms/step - loss: 0.3367 - accuracy: 0.8595 - val_loss: 0.3626 - val_accuracy: 0.8504\n",
            "Epoch 50/100\n",
            "536/536 [==============================] - 2s 3ms/step - loss: 0.3360 - accuracy: 0.8597 - val_loss: 0.3622 - val_accuracy: 0.8493\n",
            "Epoch 51/100\n",
            "536/536 [==============================] - 1s 3ms/step - loss: 0.3354 - accuracy: 0.8604 - val_loss: 0.3617 - val_accuracy: 0.8501\n",
            "Epoch 52/100\n",
            "536/536 [==============================] - 1s 2ms/step - loss: 0.3347 - accuracy: 0.8602 - val_loss: 0.3613 - val_accuracy: 0.8501\n",
            "Epoch 53/100\n",
            "536/536 [==============================] - 2s 3ms/step - loss: 0.3342 - accuracy: 0.8610 - val_loss: 0.3609 - val_accuracy: 0.8497\n",
            "Epoch 54/100\n",
            "536/536 [==============================] - 2s 3ms/step - loss: 0.3337 - accuracy: 0.8610 - val_loss: 0.3605 - val_accuracy: 0.8527\n",
            "Epoch 55/100\n",
            "536/536 [==============================] - 2s 4ms/step - loss: 0.3333 - accuracy: 0.8627 - val_loss: 0.3603 - val_accuracy: 0.8504\n",
            "Epoch 56/100\n",
            "536/536 [==============================] - 2s 3ms/step - loss: 0.3327 - accuracy: 0.8636 - val_loss: 0.3602 - val_accuracy: 0.8508\n",
            "Epoch 57/100\n",
            "536/536 [==============================] - 1s 2ms/step - loss: 0.3323 - accuracy: 0.8610 - val_loss: 0.3599 - val_accuracy: 0.8508\n",
            "Epoch 58/100\n",
            "536/536 [==============================] - 2s 3ms/step - loss: 0.3320 - accuracy: 0.8632 - val_loss: 0.3598 - val_accuracy: 0.8516\n",
            "Epoch 59/100\n",
            "536/536 [==============================] - 2s 3ms/step - loss: 0.3315 - accuracy: 0.8634 - val_loss: 0.3596 - val_accuracy: 0.8527\n",
            "Epoch 60/100\n",
            "536/536 [==============================] - 1s 2ms/step - loss: 0.3311 - accuracy: 0.8634 - val_loss: 0.3594 - val_accuracy: 0.8531\n",
            "Epoch 61/100\n",
            "536/536 [==============================] - 1s 2ms/step - loss: 0.3309 - accuracy: 0.8638 - val_loss: 0.3592 - val_accuracy: 0.8538\n",
            "Epoch 62/100\n",
            "536/536 [==============================] - 1s 3ms/step - loss: 0.3305 - accuracy: 0.8647 - val_loss: 0.3590 - val_accuracy: 0.8546\n",
            "Epoch 63/100\n",
            "536/536 [==============================] - 2s 4ms/step - loss: 0.3301 - accuracy: 0.8647 - val_loss: 0.3589 - val_accuracy: 0.8535\n",
            "Epoch 64/100\n",
            "536/536 [==============================] - 2s 4ms/step - loss: 0.3297 - accuracy: 0.8655 - val_loss: 0.3589 - val_accuracy: 0.8527\n",
            "Epoch 65/100\n",
            "536/536 [==============================] - 2s 3ms/step - loss: 0.3294 - accuracy: 0.8647 - val_loss: 0.3588 - val_accuracy: 0.8512\n",
            "Epoch 66/100\n",
            "536/536 [==============================] - 2s 3ms/step - loss: 0.3292 - accuracy: 0.8645 - val_loss: 0.3586 - val_accuracy: 0.8535\n",
            "Epoch 67/100\n",
            "536/536 [==============================] - 1s 3ms/step - loss: 0.3289 - accuracy: 0.8649 - val_loss: 0.3585 - val_accuracy: 0.8519\n",
            "Epoch 68/100\n",
            "536/536 [==============================] - 2s 3ms/step - loss: 0.3287 - accuracy: 0.8643 - val_loss: 0.3582 - val_accuracy: 0.8535\n",
            "Epoch 69/100\n",
            "536/536 [==============================] - 2s 3ms/step - loss: 0.3285 - accuracy: 0.8645 - val_loss: 0.3581 - val_accuracy: 0.8535\n",
            "Epoch 70/100\n",
            "536/536 [==============================] - 1s 3ms/step - loss: 0.3282 - accuracy: 0.8647 - val_loss: 0.3582 - val_accuracy: 0.8523\n",
            "Epoch 71/100\n",
            "536/536 [==============================] - 2s 4ms/step - loss: 0.3281 - accuracy: 0.8660 - val_loss: 0.3582 - val_accuracy: 0.8519\n",
            "Epoch 72/100\n",
            "536/536 [==============================] - 2s 4ms/step - loss: 0.3279 - accuracy: 0.8655 - val_loss: 0.3581 - val_accuracy: 0.8531\n",
            "Epoch 73/100\n",
            "536/536 [==============================] - 2s 3ms/step - loss: 0.3276 - accuracy: 0.8653 - val_loss: 0.3578 - val_accuracy: 0.8523\n",
            "Epoch 74/100\n",
            "536/536 [==============================] - 2s 3ms/step - loss: 0.3274 - accuracy: 0.8656 - val_loss: 0.3576 - val_accuracy: 0.8542\n",
            "Epoch 75/100\n",
            "536/536 [==============================] - 2s 3ms/step - loss: 0.3272 - accuracy: 0.8675 - val_loss: 0.3577 - val_accuracy: 0.8527\n",
            "Epoch 76/100\n",
            "536/536 [==============================] - 2s 3ms/step - loss: 0.3271 - accuracy: 0.8651 - val_loss: 0.3574 - val_accuracy: 0.8527\n",
            "Epoch 77/100\n",
            "536/536 [==============================] - 2s 3ms/step - loss: 0.3270 - accuracy: 0.8658 - val_loss: 0.3573 - val_accuracy: 0.8523\n",
            "Epoch 78/100\n",
            "536/536 [==============================] - 2s 4ms/step - loss: 0.3268 - accuracy: 0.8655 - val_loss: 0.3572 - val_accuracy: 0.8531\n",
            "Epoch 79/100\n",
            "536/536 [==============================] - 2s 4ms/step - loss: 0.3267 - accuracy: 0.8655 - val_loss: 0.3570 - val_accuracy: 0.8531\n",
            "Epoch 80/100\n",
            "536/536 [==============================] - 2s 3ms/step - loss: 0.3266 - accuracy: 0.8660 - val_loss: 0.3571 - val_accuracy: 0.8519\n",
            "Epoch 81/100\n",
            "536/536 [==============================] - 2s 4ms/step - loss: 0.3265 - accuracy: 0.8662 - val_loss: 0.3568 - val_accuracy: 0.8535\n",
            "Epoch 82/100\n",
            "536/536 [==============================] - 2s 3ms/step - loss: 0.3264 - accuracy: 0.8660 - val_loss: 0.3566 - val_accuracy: 0.8527\n",
            "Epoch 83/100\n",
            "536/536 [==============================] - 1s 2ms/step - loss: 0.3262 - accuracy: 0.8655 - val_loss: 0.3565 - val_accuracy: 0.8531\n",
            "Epoch 84/100\n",
            "536/536 [==============================] - 1s 2ms/step - loss: 0.3260 - accuracy: 0.8662 - val_loss: 0.3566 - val_accuracy: 0.8531\n",
            "Epoch 85/100\n",
            "536/536 [==============================] - 2s 3ms/step - loss: 0.3259 - accuracy: 0.8662 - val_loss: 0.3567 - val_accuracy: 0.8527\n",
            "Epoch 86/100\n",
            "536/536 [==============================] - 2s 4ms/step - loss: 0.3259 - accuracy: 0.8651 - val_loss: 0.3568 - val_accuracy: 0.8531\n",
            "Epoch 87/100\n",
            "536/536 [==============================] - 2s 4ms/step - loss: 0.3256 - accuracy: 0.8660 - val_loss: 0.3564 - val_accuracy: 0.8527\n",
            "Epoch 88/100\n",
            "536/536 [==============================] - 2s 3ms/step - loss: 0.3255 - accuracy: 0.8662 - val_loss: 0.3565 - val_accuracy: 0.8535\n",
            "Epoch 89/100\n",
            "536/536 [==============================] - 1s 3ms/step - loss: 0.3253 - accuracy: 0.8664 - val_loss: 0.3567 - val_accuracy: 0.8542\n",
            "Epoch 90/100\n",
            "536/536 [==============================] - 1s 3ms/step - loss: 0.3253 - accuracy: 0.8675 - val_loss: 0.3562 - val_accuracy: 0.8538\n",
            "Epoch 91/100\n",
            "536/536 [==============================] - 1s 3ms/step - loss: 0.3252 - accuracy: 0.8666 - val_loss: 0.3563 - val_accuracy: 0.8531\n",
            "Epoch 92/100\n",
            "536/536 [==============================] - 2s 3ms/step - loss: 0.3251 - accuracy: 0.8681 - val_loss: 0.3560 - val_accuracy: 0.8538\n",
            "Epoch 93/100\n",
            "536/536 [==============================] - 2s 3ms/step - loss: 0.3250 - accuracy: 0.8671 - val_loss: 0.3561 - val_accuracy: 0.8538\n",
            "Epoch 94/100\n",
            "536/536 [==============================] - 3s 5ms/step - loss: 0.3249 - accuracy: 0.8679 - val_loss: 0.3561 - val_accuracy: 0.8538\n",
            "Epoch 95/100\n",
            "536/536 [==============================] - 2s 4ms/step - loss: 0.3246 - accuracy: 0.8666 - val_loss: 0.3562 - val_accuracy: 0.8527\n",
            "Epoch 96/100\n",
            "536/536 [==============================] - 2s 3ms/step - loss: 0.3247 - accuracy: 0.8668 - val_loss: 0.3565 - val_accuracy: 0.8550\n",
            "Epoch 97/100\n",
            "536/536 [==============================] - 2s 4ms/step - loss: 0.3247 - accuracy: 0.8666 - val_loss: 0.3561 - val_accuracy: 0.8542\n",
            "Epoch 98/100\n",
            "536/536 [==============================] - 2s 3ms/step - loss: 0.3245 - accuracy: 0.8666 - val_loss: 0.3563 - val_accuracy: 0.8523\n",
            "Epoch 99/100\n",
            "536/536 [==============================] - 2s 3ms/step - loss: 0.3244 - accuracy: 0.8671 - val_loss: 0.3562 - val_accuracy: 0.8535\n",
            "Epoch 100/100\n",
            "536/536 [==============================] - 1s 3ms/step - loss: 0.3242 - accuracy: 0.8666 - val_loss: 0.3563 - val_accuracy: 0.8531\n"
          ]
        }
      ]
    },
    {
      "cell_type": "code",
      "source": [
        "print(model_history.history.keys())"
      ],
      "metadata": {
        "colab": {
          "base_uri": "https://localhost:8080/"
        },
        "id": "Xdv-7p94L3ea",
        "outputId": "9bd24cb1-d470-4096-faee-093d5c8ea144"
      },
      "execution_count": 59,
      "outputs": [
        {
          "output_type": "stream",
          "name": "stdout",
          "text": [
            "dict_keys(['loss', 'accuracy', 'val_loss', 'val_accuracy'])\n"
          ]
        }
      ]
    },
    {
      "cell_type": "code",
      "source": [
        "import matplotlib.pyplot as plt"
      ],
      "metadata": {
        "id": "pWR_UAuLMWLg"
      },
      "execution_count": 60,
      "outputs": []
    },
    {
      "cell_type": "code",
      "source": [
        "plt.plot(model_history.history['accuracy'])\n",
        "plt.plot(model_history.history['val_accuracy'])\n",
        "plt.title('model accuracy')\n",
        "plt.ylabel('accuracy')\n",
        "plt.xlabel('epoch')\n",
        "plt.legend(['train', 'test'], loc='upper left')\n",
        "plt.show()"
      ],
      "metadata": {
        "colab": {
          "base_uri": "https://localhost:8080/",
          "height": 472
        },
        "id": "5h2f8_fSMe20",
        "outputId": "a2a0ad36-a814-489a-8b91-ec050fdec1fc"
      },
      "execution_count": 62,
      "outputs": [
        {
          "output_type": "display_data",
          "data": {
            "text/plain": [
              "<Figure size 640x480 with 1 Axes>"
            ],
            "image/png": "[encoded data removed]"
          },
          "metadata": {}
        }
      ]
    },
    {
      "cell_type": "code",
      "source": [
        "plt.plot(model_history.history['loss'])\n",
        "plt.plot(model_history.history['val_loss'])\n",
        "plt.title('model loss')\n",
        "plt.ylabel('loss')\n",
        "plt.xlabel('epoch')\n",
        "plt.legend(['train', 'test'], loc='upper left')\n",
        "plt.show()"
      ],
      "metadata": {
        "colab": {
          "base_uri": "https://localhost:8080/",
          "height": 472
        },
        "id": "cyU7B_7iMwIv",
        "outputId": "007cdcb6-77d9-4008-dc08-01e4c7f388f9"
      },
      "execution_count": 63,
      "outputs": [
        {
          "output_type": "display_data",
          "data": {
            "text/plain": [
              "<Figure size 640x480 with 1 Axes>"
            ],
            "image/png": "[encoded data removed]"
          },
          "metadata": {}
        }
      ]
    },
    {
      "cell_type": "code",
      "source": [
        "y_predict = classifier.predict(X_test)\n",
        "y_predict = (y_predict>0.5)"
      ],
      "metadata": {
        "colab": {
          "base_uri": "https://localhost:8080/"
        },
        "id": "cmExQmI1M9Gy",
        "outputId": "0e4c9ae6-5a0d-4ebe-92e6-c666d3aeca96"
      },
      "execution_count": 64,
      "outputs": [
        {
          "output_type": "stream",
          "name": "stdout",
          "text": [
            "63/63 [==============================] - 0s 1ms/step\n"
          ]
        }
      ]
    },
    {
      "cell_type": "code",
      "source": [
        "from sklearn.metrics import confusion_matrix\n",
        "cm = confusion_matrix(y_test, y_predict)"
      ],
      "metadata": {
        "id": "-UKGyc9DNPE9"
      },
      "execution_count": 66,
      "outputs": []
    },
    {
      "cell_type": "code",
      "source": [
        "cm"
      ],
      "metadata": {
        "colab": {
          "base_uri": "https://localhost:8080/"
        },
        "id": "TcSIJGuFNZy9",
        "outputId": "07b1cd77-2eef-46c8-ec83-5d5f406c912c"
      },
      "execution_count": 67,
      "outputs": [
        {
          "output_type": "execute_result",
          "data": {
            "text/plain": [
              "array([[1542,   65],\n",
              "       [ 202,  191]])"
            ]
          },
          "metadata": {},
          "execution_count": 67
        }
      ]
    },
    {
      "cell_type": "code",
      "source": [
        "from sklearn.metrics import accuracy_score\n",
        "score=accuracy_score(y_predict,y_test)"
      ],
      "metadata": {
        "id": "9OcMkwSVN8Lw"
      },
      "execution_count": 69,
      "outputs": []
    },
    {
      "cell_type": "code",
      "source": [
        "score"
      ],
      "metadata": {
        "colab": {
          "base_uri": "https://localhost:8080/"
        },
        "id": "shYUtJOCOHb1",
        "outputId": "a8d922f0-0df2-4819-a8db-d8cfddb38ee3"
      },
      "execution_count": 70,
      "outputs": [
        {
          "output_type": "execute_result",
          "data": {
            "text/plain": [
              "0.8665"
            ]
          },
          "metadata": {},
          "execution_count": 70
        }
      ]
    }
  ]
}